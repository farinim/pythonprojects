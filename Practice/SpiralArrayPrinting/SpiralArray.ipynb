{
 "metadata": {
  "language_info": {
   "codemirror_mode": {
    "name": "ipython",
    "version": 3
   },
   "file_extension": ".py",
   "mimetype": "text/x-python",
   "name": "python",
   "nbconvert_exporter": "python",
   "pygments_lexer": "ipython3",
   "version": "3.8.3-final"
  },
  "orig_nbformat": 2,
  "kernelspec": {
   "name": "python3",
   "display_name": "Python 3"
  }
 },
 "nbformat": 4,
 "nbformat_minor": 2,
 "cells": [
  {
   "cell_type": "code",
   "execution_count": 4,
   "metadata": {},
   "outputs": [],
   "source": [
    "def spiral(myArr):\n",
    "    m=len(myArr)\n",
    "    n=len(myArr[0])\n",
    "    i=j=0\n",
    "    reverse= False\n",
    "    k=0\n",
    "    count = m * n\n",
    "\n",
    "    while(count > 0):\n",
    "        print(myArr[i][j])\n",
    "        if(reverse == False):\n",
    "            if(j<n-1):\n",
    "                j = j + 1\n",
    "            else:\n",
    "                if(i<m-1):\n",
    "                    i = i + 1\n",
    "                else:\n",
    "                    reverse=True\n",
    "                    n = n-1\n",
    "                    m = m -1\n",
    "                    j = j -1\n",
    "                    k=k+1\n",
    "                    #print(\"k:\",k)\n",
    "        else:\n",
    "            if(j >= k):\n",
    "                j = j - 1\n",
    "            else:            \n",
    "                if(i > k):\n",
    "                    i =  i - 1\n",
    "                else:\n",
    "                    reverse = False\n",
    "                    k = k + 1\n",
    "                    j = j + 1\n",
    "                    #print(\"ij\",i,j,\" reverse:\",reverse,\"mn: \", m,n)\n",
    "        count-=1"
   ]
  },
  {
   "cell_type": "code",
   "execution_count": 6,
   "metadata": {},
   "outputs": [
    {
     "output_type": "stream",
     "name": "stdout",
     "text": [
      "1\n2\n3\n4\n5\n6\n12\n18\n17\n16\n15\n14\n13\n7\n8\n9\n10\n11\n"
     ]
    }
   ],
   "source": [
    "def main():\n",
    "    #myArr = [[1, 2,  3,  4], \n",
    "    #         [5, 6,  7,  8],\n",
    "    #         [9, 10, 11, 12]]\n",
    "    #myArr = [[1,  2,   3,  4],\n",
    "    #         [5,  6,   7,  8],\n",
    "    #         [9,  10,  11, 12],\n",
    "    #         [13, 14,  15, 16]]\n",
    "    myArr = [[1,   2,   3,   4,  5,   6], \n",
    "             [7,   8,   9,  10,  11,  12],\n",
    "             [13,  14,  15, 16,  17,  18]]\n",
    "    spiral(myArr)\n",
    "\n",
    "main()"
   ]
  },
  {
   "cell_type": "code",
   "execution_count": null,
   "metadata": {},
   "outputs": [],
   "source": []
  }
 ]
}