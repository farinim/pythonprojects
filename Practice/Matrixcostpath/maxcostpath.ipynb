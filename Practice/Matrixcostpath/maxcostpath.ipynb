{
 "metadata": {
  "language_info": {
   "codemirror_mode": {
    "name": "ipython",
    "version": 3
   },
   "file_extension": ".py",
   "mimetype": "text/x-python",
   "name": "python",
   "nbconvert_exporter": "python",
   "pygments_lexer": "ipython3",
   "version": "3.8.3-final"
  },
  "orig_nbformat": 2,
  "kernelspec": {
   "name": "python3",
   "display_name": "Python 3",
   "language": "python"
  }
 },
 "nbformat": 4,
 "nbformat_minor": 2,
 "cells": [
  {
   "cell_type": "code",
   "execution_count": 119,
   "metadata": {},
   "outputs": [],
   "source": [
    "def cheapestpath(arr,i,j,k):\n",
    "    n = len(arr) - 1\n",
    "    m = len(arr[0]) - 1\n",
    "    #print(\"arr[i][j]:\",arr[i][j],\"ij:\",i,j,\"nm:\",n,m)\n",
    "    if(i == n and j == m):        \n",
    "        return 0    \n",
    "    hdiff=0\n",
    "    vdiff=0    \n",
    "    if j < m:\n",
    "        hdiff = arr[i][j+1] - arr[i][j]        \n",
    "    if i < n:\n",
    "        vdiff = arr[i+1][j] - arr[i][j]        \n",
    "    #print(\"sum:\",sum,\"hdiff:\",hdiff,\"vdiff:\",vdiff)\n",
    "    if j < m and hdiff < vdiff or (vdiff < 0):        \n",
    "        newcost = hdiff - k\n",
    "        if newcost < 0:\n",
    "            #print(\"decrementing \", arr[i][j])\n",
    "            newcost = arr[i][j] + k - arr[i][j+1]\n",
    "            arr[i][j] = arr[i][j] - newcost\n",
    "        else:\n",
    "            newcost = arr[i][j+1] - k - arr[i][j]\n",
    "            #print(\"decrementing-- \", arr[i][j+1])\n",
    "            arr[i][j+1] = arr[i][j+1] - newcost\n",
    "        #print(\"hdiff is \",hdiff,\"newcost: \",newcost,\"computing cheapestpath(arr,\",i,j+1,k,\")\")\n",
    "        cost = newcost  + cheapestpath(arr,i,j+1,k)\n",
    "        #print(\"H: cost[\",i,j,\"]: \",cost)\n",
    "        return cost    \n",
    "    elif i < n :\n",
    "        newcost = vdiff - k\n",
    "        if newcost < 0:\n",
    "            #print(\"decrementing \", arr[i][j])\n",
    "            newcost = arr[i][j] + k - arr[i+1][j]\n",
    "            arr[i][j] = arr[i][j] - newcost\n",
    "        else:\n",
    "            #print(\"decrementing..\", arr[i+1][j])\n",
    "            newcost = arr[i+1][j] - k - arr[i][j]\n",
    "            arr[i+1][j] = arr[i+1][j] - newcost \n",
    "            #print(\"to \",arr[i+1][j])          \n",
    "        #print(\"vdiff is \",vdiff,\"newcost: \",newcost,\"computing cheapestpath(arr,\",i+1,j,k,\")\")\n",
    "        cost = newcost + cheapestpath(arr,i+1,j,k)\n",
    "        #print(\"V: cost[\",i,j,\"]: \",cost)\n",
    "        return cost\n",
    "    return 0"
   ]
  },
  {
   "cell_type": "code",
   "execution_count": 120,
   "metadata": {},
   "outputs": [
    {
     "output_type": "stream",
     "name": "stdout",
     "text": [
      "**********************************\nminimum cost is  11\n**********************************\n**********************************\nminimum cost is  121\n**********************************\n"
     ]
    }
   ],
   "source": [
    "mat = [[8, 10, 14], [5, 41, 19], [10, 2, 25]]\n",
    "mincost = cheapestpath(mat,0,0,3)\n",
    "print(\"**********************************\")\n",
    "print(\"minimum cost is \", mincost)\n",
    "print(\"**********************************\")\n",
    "\n",
    "mat = [[15, 153], [135, 17]]\n",
    "mincost = cheapestpath(mat,0,0,3)\n",
    "print(\"**********************************\")\n",
    "print(\"minimum cost is \", mincost)\n",
    "print(\"**********************************\")\n"
   ]
  }
 ]
}