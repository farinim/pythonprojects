{
 "metadata": {
  "language_info": {
   "codemirror_mode": {
    "name": "ipython",
    "version": 3
   },
   "file_extension": ".py",
   "mimetype": "text/x-python",
   "name": "python",
   "nbconvert_exporter": "python",
   "pygments_lexer": "ipython3",
   "version": "3.8.3-final"
  },
  "orig_nbformat": 2,
  "kernelspec": {
   "name": "python3",
   "display_name": "Python 3",
   "language": "python"
  }
 },
 "nbformat": 4,
 "nbformat_minor": 2,
 "cells": [
  {
   "cell_type": "code",
   "execution_count": 109,
   "metadata": {},
   "outputs": [],
   "source": [
    "def cheapestpath(arr,i,j,k):\n",
    "    n = len(arr) - 1\n",
    "    m = len(arr[0]) - 1\n",
    "    print(\"arr[i][j]:\",arr[i][j],\"ij:\",i,j,\"nm:\",n,m)\n",
    "    if(i == n and j == m):\n",
    "        #print(arr[i][j])\n",
    "        return 0\n",
    "    sum =  k + arr[i][j]\n",
    "    hdiff=0\n",
    "    vdiff=0    \n",
    "    if j < m:# and arr[i][j+1] < sum:\n",
    "        hdiff = arr[i][j+1] - arr[i][j]\n",
    "        #print(\"hdiff computed\")\n",
    "    if i < n:# and arr[i+1][j] < sum:\n",
    "        vdiff = arr[i+1][j] - arr[i][j]\n",
    "        #print(\"vdiff computed\")\n",
    "    print(\"sum:\",sum,\"hdiff:\",hdiff,\"vdiff:\",vdiff)\n",
    "    if j < m and hdiff < vdiff or (vdiff < 0):        \n",
    "        newcost = hdiff - k\n",
    "        if newcost < 0:\n",
    "            print(\"decrementing \", arr[i][j])\n",
    "            newcost = arr[i][j] + k - arr[i][j+1]\n",
    "            arr[i][j] = arr[i][j] - newcost\n",
    "        else:\n",
    "            newcost = arr[i][j+1] - k - arr[i][j]\n",
    "            print(\"decrementing-- \", arr[i][j+1])\n",
    "            arr[i][j+1] = arr[i][j+1] - newcost\n",
    "        print(\"hdiff is \",hdiff,\"newcost: \",newcost,\"computing cheapestpath(arr,\",i,j+1,k,\")\")\n",
    "        cost = newcost  + cheapestpath(arr,i,j+1,k)\n",
    "        print(\"H: cost[\",i,j,\"]: \",cost)\n",
    "        return cost\n",
    "    #elif hdiff > vdiff:\n",
    "    elif i < n :\n",
    "        newcost = vdiff - k\n",
    "        if newcost < 0:\n",
    "            print(\"decrementing \", arr[i][j])\n",
    "            newcost = arr[i][j] + k - arr[i+1][j]\n",
    "            arr[i][j] = arr[i][j] - newcost\n",
    "        else:\n",
    "            print(\"decrementing..\", arr[i+1][j])\n",
    "            newcost = arr[i+1][j] - k - arr[i][j]\n",
    "            arr[i+1][j] = arr[i+1][j] - newcost            \n",
    "        print(\"vdiff is \",vdiff,\"newcost: \",newcost,\"computing cheapestpath(arr,\",i+1,j,k,\")\")\n",
    "        cost = newcost + cheapestpath(arr,i+1,j,k)\n",
    "        print(\"V: cost[\",i,j,\"]: \",cost)\n",
    "        return cost\n",
    "    return 0"
   ]
  },
  {
   "cell_type": "code",
   "execution_count": 110,
   "metadata": {},
   "outputs": [
    {
     "output_type": "stream",
     "name": "stdout",
     "text": [
      "arr[i][j]: 8 ij: 0 0 nm: 2 2\nsum: 11 hdiff: 2 vdiff: -3\ndecrementing  8\nhdiff is  2 newcost:  1 computing cheapestpath(arr, 0 1 3 )\narr[i][j]: 10 ij: 0 1 nm: 2 2\nsum: 13 hdiff: 4 vdiff: 31\ndecrementing--  14\nhdiff is  4 newcost:  1 computing cheapestpath(arr, 0 2 3 )\narr[i][j]: 13 ij: 0 2 nm: 2 2\nsum: 16 hdiff: 0 vdiff: 6\ndecrementing.. 19\nvdiff is  6 newcost:  3 computing cheapestpath(arr, 1 2 3 )\narr[i][j]: 16 ij: 1 2 nm: 2 2\nsum: 19 hdiff: 0 vdiff: 9\ndecrementing.. 25\nvdiff is  9 newcost:  6 computing cheapestpath(arr, 2 2 3 )\narr[i][j]: 19 ij: 2 2 nm: 2 2\nV: cost[ 1 2 ]:  6\nV: cost[ 0 2 ]:  9\nH: cost[ 0 1 ]:  10\nH: cost[ 0 0 ]:  11\nminimum cost is  11\n"
     ]
    }
   ],
   "source": [
    "mat = [[8, 10, 14], [5, 41, 19], [10, 2, 25]]\n",
    "mincost = cheapestpath(mat,0,0,3)\n",
    "print(\"minimum cost is \", mincost)\n"
   ]
  }
 ]
}