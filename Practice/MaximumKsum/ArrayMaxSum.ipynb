{
 "metadata": {
  "language_info": {
   "codemirror_mode": {
    "name": "ipython",
    "version": 3
   },
   "file_extension": ".py",
   "mimetype": "text/x-python",
   "name": "python",
   "nbconvert_exporter": "python",
   "pygments_lexer": "ipython3",
   "version": "3.8.3-final"
  },
  "orig_nbformat": 2,
  "kernelspec": {
   "name": "python3",
   "display_name": "Python 3"
  }
 },
 "nbformat": 4,
 "nbformat_minor": 2,
 "cells": [
  {
   "cell_type": "code",
   "execution_count": 61,
   "metadata": {},
   "outputs": [],
   "source": [
    "def printarray(arr,m,n):\n",
    "    for i in range(m):\n",
    "        print(arr[i][0])\n"
   ]
  },
  {
   "cell_type": "code",
   "execution_count": 62,
   "metadata": {},
   "outputs": [],
   "source": [
    "def maxvalue(arr):\n",
    "    maxV = arr[0]\n",
    "    for e in arr:\n",
    "        if e > maxV:\n",
    "            maxV = e\n",
    "    return maxV"
   ]
  },
  {
   "cell_type": "code",
   "execution_count": 63,
   "metadata": {},
   "outputs": [],
   "source": [
    "def rowsum(arr,m,n):\n",
    "    if(n == 0):\n",
    "        return arr[m][n]\n",
    "    return arr[m][n] + rowsum(arr,m,n-1)\n"
   ]
  },
  {
   "cell_type": "code",
   "execution_count": 64,
   "metadata": {},
   "outputs": [],
   "source": [
    "def rowsummatrix(arr):\n",
    "    m=len(arr)\n",
    "    n=len(arr[0])\n",
    "    summatrix=[[0]*n for i in range(m)]    \n",
    "    for j in range(n):\n",
    "        for i in range(m):            \n",
    "            if( j== 0):           \n",
    "                summatrix[i][j] = arr[i][j]                \n",
    "            else:\n",
    "                summatrix[i][j] = arr[i][j] + summatrix[i][j-1]\n",
    "    print(summatrix)\n",
    "    return summatrix"
   ]
  },
  {
   "cell_type": "code",
   "execution_count": 65,
   "metadata": {},
   "outputs": [],
   "source": [
    "def maxvalueindex(arr):\n",
    "    maxV = arr[0]\n",
    "    mxindx=0\n",
    "    for i in range(1,len(arr)):\n",
    "        if arr[i] > maxV:\n",
    "            maxV = arr[i]\n",
    "            mxindx = i\n",
    "    return mxindx"
   ]
  },
  {
   "cell_type": "code",
   "execution_count": 66,
   "metadata": {},
   "outputs": [],
   "source": [
    "def maxarrsum(summatrix,k):\n",
    "    total=0\n",
    "    n = len(summatrix[0])\n",
    "    m = len(summatrix)\n",
    "    \n",
    "    if(k < n -1):\n",
    "        j = k -1\n",
    "    else:\n",
    "        j = n -1\n",
    "    print(\"Starting with j = \", j)\n",
    "    \n",
    "    maxcol = [summatrix[l][j] for l in range(m)]\n",
    "    #print(maxcol)\n",
    "    I = maxvalueindex(maxcol)\n",
    "    total = summatrix[I][j]\n",
    "    k = k - j\n",
    "    #print(I)\n",
    "    prevIcolsum = summatrix[I][j]\n",
    "    while( j > 0):\n",
    "        print(\"before i loop - prevIcolsum:\",prevIcolsum)\n",
    "        for x in range(m):\n",
    "            print(\"x:\",x)\n",
    "            if x != I:\n",
    "                if summatrix[I][j-1] < summatrix[x][j-1]:\n",
    "                    newtotal = summatrix[I][j-1] + summatrix[x][j-1]\n",
    "                    if newtotal > prevIcolsum:\n",
    "                        print(\"newtotal > prevIcolsum\", newtotal, prevIcolsum)\n",
    "                        print(\"k:\",k,\"I:\",I,\"x:\",x,\"i:\",i,\"j:\",j)\n",
    "                        prevIcolsum  = newtotal\n",
    "                        k = k - 1\n",
    "                        I = x\n",
    "                        print(\"k:\",k,\"I:\",I,\"x:\",x,\"i:\",i,\"j:\",j)\n",
    "        print(\"after i loop - prevIcolsum:\",prevIcolsum)\n",
    "        j = j -1\n",
    "    print(\"final sum:\",prevIcolsum)"
   ]
  },
  {
   "cell_type": "code",
   "execution_count": 67,
   "metadata": {},
   "outputs": [],
   "source": [
    "def main():    \n",
    "    myArr = [[21,   2,   3,   4,  5,   6], \n",
    "             [7,   18,   9,  10,  11,  12],\n",
    "             [1,  14,  15, 16,  17,  18]]\n",
    "    #printarray(myArr,2,0)\n",
    "    r = rowsum(myArr,0,3)\n",
    "    #print(r)\n",
    "    maxInRows=[]\n",
    "    maxInRowsIndex = []\n",
    "    for i in range(len(myArr)):\n",
    "        #maxInRows.append(maxvalue(myArr[i]))\n",
    "        maxInRows.append(maxvalueindex(myArr[i]))\n",
    "    #print(maxInRows)\n",
    "    #maxsum = maxarrsum(myArr,5)\n",
    "    summatrix = rowsummatrix(myArr)\n",
    "    maxarrsum(summatrix, 3)\n"
   ]
  },
  {
   "cell_type": "code",
   "execution_count": 68,
   "metadata": {},
   "outputs": [
    {
     "output_type": "stream",
     "name": "stdout",
     "text": [
      "[[21, 23, 26, 30, 35, 41], [7, 25, 34, 44, 55, 67], [1, 15, 30, 46, 63, 81]]\nStarting with j =  2\nbefore i loop - prevIcolsum: 34\nx: 0\nx: 1\nx: 2\nafter i loop - prevIcolsum: 34\nbefore i loop - prevIcolsum: 34\nx: 0\nx: 1\nx: 2\nafter i loop - prevIcolsum: 34\nfinal sum: 34\n"
     ]
    }
   ],
   "source": [
    "main()"
   ]
  },
  {
   "cell_type": "code",
   "execution_count": null,
   "metadata": {},
   "outputs": [],
   "source": []
  }
 ]
}