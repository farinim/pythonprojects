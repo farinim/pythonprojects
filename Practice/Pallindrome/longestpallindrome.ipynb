{
 "metadata": {
  "language_info": {
   "codemirror_mode": {
    "name": "ipython",
    "version": 3
   },
   "file_extension": ".py",
   "mimetype": "text/x-python",
   "name": "python",
   "nbconvert_exporter": "python",
   "pygments_lexer": "ipython3",
   "version": "3.8.3-final"
  },
  "orig_nbformat": 2,
  "kernelspec": {
   "name": "python3",
   "display_name": "Python 3",
   "language": "python"
  }
 },
 "nbformat": 4,
 "nbformat_minor": 2,
 "cells": [
  {
   "cell_type": "code",
   "execution_count": 278,
   "metadata": {},
   "outputs": [],
   "source": [
    "def ispallindrome(s):\n",
    "    if(s[::-1] == s):\n",
    "        return True\n",
    "    return False"
   ]
  },
  {
   "cell_type": "code",
   "execution_count": 279,
   "metadata": {},
   "outputs": [],
   "source": [
    "def pallindromelastindex(s,start):\n",
    "    i = len(s) - 1\n",
    "    while i > start:        \n",
    "        if(s[i] == s[start]):\n",
    "            if(ispallindrome(s[start:i+1]) == True):\n",
    "                return i\n",
    "            else:\n",
    "                return -1\n",
    "        i = i -1\n",
    "    return -1\n"
   ]
  },
  {
   "cell_type": "code",
   "execution_count": 280,
   "metadata": {},
   "outputs": [],
   "source": [
    "def maxPallindrome(s):\n",
    "    maxlen =  0\n",
    "    start = -1\n",
    "    end = -1\n",
    "    for i in range(len(s)):        \n",
    "        index = pallindromelastindex(s,i)\n",
    "        #print(\"index=\",index)\n",
    "        if(index != -1):            \n",
    "            newlen = index - i\n",
    "            if maxlen < newlen:\n",
    "                #print(\"i =\",i,\"index=\",index,\"maxlen=\",maxlen,\"newlen=\",newlen)               \n",
    "                start =  i\n",
    "                end = index\n",
    "                maxlen = newlen\n",
    "        i = i + 1\n",
    "    #print(\"start=\",start,\"end=\",end)\n",
    "    return s[start:end+1]"
   ]
  },
  {
   "cell_type": "code",
   "execution_count": 281,
   "metadata": {},
   "outputs": [
    {
     "output_type": "stream",
     "name": "stdout",
     "text": [
      "Longest Pallindrome in  cncaabbcbbasadndxxxxxxxx  is :'xxxxxxxx'\n"
     ]
    }
   ],
   "source": [
    "#inputstr = \"abcdefg\"\n",
    "inputstr  = \"cncaabbcbbasadndxxxxxxxx\"\n",
    "pallindrome = maxPallindrome(inputstr)\n",
    "if(len(pallindrome) > 0): print(\"Longest Pallindrome in \", inputstr,\" is :'\"+pallindrome+\"'\")\n",
    "else: print(inputstr,\" has no pallindrome\")"
   ]
  }
 ]
}