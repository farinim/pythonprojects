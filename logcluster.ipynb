{
 "metadata": {
  "language_info": {
   "codemirror_mode": {
    "name": "ipython",
    "version": 3
   },
   "file_extension": ".py",
   "mimetype": "text/x-python",
   "name": "python",
   "nbconvert_exporter": "python",
   "pygments_lexer": "ipython3",
   "version": "3.8.3-final"
  },
  "orig_nbformat": 2,
  "kernelspec": {
   "name": "python_defaultSpec_1600856373903",
   "display_name": "Python 3.8.3 64-bit ('Installed': virtualenv)"
  }
 },
 "nbformat": 4,
 "nbformat_minor": 2,
 "cells": [
  {
   "cell_type": "code",
   "execution_count": 15,
   "metadata": {
    "tags": []
   },
   "outputs": [
    {
     "output_type": "stream",
     "name": "stdout",
     "text": "{'demo: starting demo': 2, 'demo: execute step 1 of the demo; output:none': 1, 'demo: execute step 2 of the demo; output: stage 1 sucessful proceeding with stage 2': 1, 'demorest: begin intitialization': 1, 'democontroller: intitialization sucessful': 1, 'democontroller: stop controller': 1, 'democontroller: leave controller': 1, 'demorest: gather information': 1, 'demorest: return results': 2, 'demo: goodbye': 2, 'demo: demo executed before, not re-running': 1}\n"
    }
   ],
   "source": [
    "import re\n",
    "\n",
    "logfile = open('./sampledata/app-log.txt')\n",
    "cluster ={}\n",
    "for line in logfile:\n",
    "    line=line.lower().strip()   \n",
    "    if re.match(r'^[0-9]+-[a-z]+-[0-9]+',line):\n",
    "        #start of a log line\n",
    "        claz = re.split(\"info \", line)[1]\n",
    "        #print(claz)\n",
    "        if claz in cluster:\n",
    "            cluster[claz] += 1\n",
    "        else:\n",
    "            cluster[claz] = 1\n",
    "    \n",
    "print(cluster)\n"
   ]
  },
  {
   "cell_type": "code",
   "execution_count": null,
   "metadata": {},
   "outputs": [],
   "source": []
  }
 ]
}