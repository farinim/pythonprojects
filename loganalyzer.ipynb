{
 "cells": [
  {
   "cell_type": "code",
   "execution_count": 136,
   "metadata": {},
   "outputs": [],
   "source": [
    "from pathlib import Path\n",
    "filename = Path.cwd()/\"logging/normalized-log.txt\"\n",
    "#print(filename)\n",
    "\n",
    "d={}\n",
    "count=21\n",
    "with filename.open() as f: \n",
    "    for line in f:\n",
    "        i = line.strip().strip('(').strip(')').split(',')\n",
    "        key=i[0].replace(\"\\'\",\"\")\n",
    "        value=i[-1].strip()\n",
    "        try:\n",
    "            d[key]=int(value)\n",
    "            count -=1\n",
    "            if count == 0: break\n",
    "        except ValueError:\n",
    "            print(\"**\",value,\"**\")\n",
    "        "
   ]
  },
  {
   "cell_type": "code",
   "execution_count": 138,
   "metadata": {},
   "outputs": [],
   "source": [
    "#print(d)\n",
    "#print(d.keys()) \n",
    "#print(d.values())"
   ]
  },
  {
   "cell_type": "code",
   "execution_count": 140,
   "metadata": {},
   "outputs": [
    {
     "data": {
     },
     "metadata": {},
     "output_type": "display_data"
    }
   ],
   "source": [
    "import matplotlib.pyplot as plt\n",
    "\n",
    "fig, ax = plt.subplots(figsize=(15, 8))\n",
    "#print(list(d.keys()))\n",
    "x=list(d.keys())\n",
    "y=list(d.values())\n",
    "for i,j in zip(x,y):\n",
    "    ax.text(j,i,str(i))\n",
    "plt.yticks([],[])\n",
    "ax.barh(x,y,color='0.7')\n",
    "ax.set_title(\"Frequency of logs\")\n",
    "ax.set_xlabel(\"#Occurences\")\n",
    "ax.set_ylabel(\"Log-msg\")\n",
    "plt.show()"
   ]
  },
  {
   "cell_type": "code",
   "execution_count": null,
   "metadata": {},
   "outputs": [],
   "source": []
  }
 ],
 "metadata": {
  "kernelspec": {
   "display_name": "Python 3",
   "language": "python",
   "name": "python3"
  },
  "language_info": {
   "codemirror_mode": {
    "name": "ipython",
    "version": 3
   },
   "file_extension": ".py",
   "mimetype": "text/x-python",
   "name": "python",
   "nbconvert_exporter": "python",
   "pygments_lexer": "ipython3",
   "version": "3.6.5"
  }
 },
 "nbformat": 4,
 "nbformat_minor": 2
}
